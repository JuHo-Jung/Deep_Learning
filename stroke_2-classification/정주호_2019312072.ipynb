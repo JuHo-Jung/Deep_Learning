{
  "nbformat": 4,
  "nbformat_minor": 0,
  "metadata": {
    "colab": {
      "name": "정주호_2019312072.ipynb",
      "provenance": [],
      "collapsed_sections": []
    },
    "kernelspec": {
      "name": "python3",
      "display_name": "Python 3"
    },
    "language_info": {
      "name": "python"
    },
    "widgets": {
      "application/vnd.jupyter.widget-state+json": {
        "22c7f63f6ea14f3c95b7e3d1e9380f31": {
          "model_module": "@jupyter-widgets/controls",
          "model_name": "HBoxModel",
          "model_module_version": "1.5.0",
          "state": {
            "_view_name": "HBoxView",
            "_dom_classes": [],
            "_model_name": "HBoxModel",
            "_view_module": "@jupyter-widgets/controls",
            "_model_module_version": "1.5.0",
            "_view_count": null,
            "_view_module_version": "1.5.0",
            "box_style": "",
            "layout": "IPY_MODEL_ca328294673d43b2afbdf54459872ad0",
            "_model_module": "@jupyter-widgets/controls",
            "children": [
              "IPY_MODEL_3a17290782ee41318779747887b52968",
              "IPY_MODEL_6944c5f9bcbb47478a440cc464d95b68",
              "IPY_MODEL_a38d784fedc04bb294e8b6e58d486c3b"
            ]
          }
        },
        "ca328294673d43b2afbdf54459872ad0": {
          "model_module": "@jupyter-widgets/base",
          "model_name": "LayoutModel",
          "model_module_version": "1.2.0",
          "state": {
            "_view_name": "LayoutView",
            "grid_template_rows": null,
            "right": null,
            "justify_content": null,
            "_view_module": "@jupyter-widgets/base",
            "overflow": null,
            "_model_module_version": "1.2.0",
            "_view_count": null,
            "flex_flow": null,
            "width": null,
            "min_width": null,
            "border": null,
            "align_items": null,
            "bottom": null,
            "_model_module": "@jupyter-widgets/base",
            "top": null,
            "grid_column": null,
            "overflow_y": null,
            "overflow_x": null,
            "grid_auto_flow": null,
            "grid_area": null,
            "grid_template_columns": null,
            "flex": null,
            "_model_name": "LayoutModel",
            "justify_items": null,
            "grid_row": null,
            "max_height": null,
            "align_content": null,
            "visibility": null,
            "align_self": null,
            "height": null,
            "min_height": null,
            "padding": null,
            "grid_auto_rows": null,
            "grid_gap": null,
            "max_width": null,
            "order": null,
            "_view_module_version": "1.2.0",
            "grid_template_areas": null,
            "object_position": null,
            "object_fit": null,
            "grid_auto_columns": null,
            "margin": null,
            "display": null,
            "left": null
          }
        },
        "3a17290782ee41318779747887b52968": {
          "model_module": "@jupyter-widgets/controls",
          "model_name": "HTMLModel",
          "model_module_version": "1.5.0",
          "state": {
            "_view_name": "HTMLView",
            "style": "IPY_MODEL_20a52ac460f4418b9edb7c5d483bc4e3",
            "_dom_classes": [],
            "description": "",
            "_model_name": "HTMLModel",
            "placeholder": "​",
            "_view_module": "@jupyter-widgets/controls",
            "_model_module_version": "1.5.0",
            "value": "100%",
            "_view_count": null,
            "_view_module_version": "1.5.0",
            "description_tooltip": null,
            "_model_module": "@jupyter-widgets/controls",
            "layout": "IPY_MODEL_17c27afafdca4de19f1aabf4fe3c6dbd"
          }
        },
        "6944c5f9bcbb47478a440cc464d95b68": {
          "model_module": "@jupyter-widgets/controls",
          "model_name": "FloatProgressModel",
          "model_module_version": "1.5.0",
          "state": {
            "_view_name": "ProgressView",
            "style": "IPY_MODEL_f2cc008bd825440998aad6f5fcc62763",
            "_dom_classes": [],
            "description": "",
            "_model_name": "FloatProgressModel",
            "bar_style": "success",
            "max": 12,
            "_view_module": "@jupyter-widgets/controls",
            "_model_module_version": "1.5.0",
            "value": 12,
            "_view_count": null,
            "_view_module_version": "1.5.0",
            "orientation": "horizontal",
            "min": 0,
            "description_tooltip": null,
            "_model_module": "@jupyter-widgets/controls",
            "layout": "IPY_MODEL_5b0ffd2d834043dfa352594d34334244"
          }
        },
        "a38d784fedc04bb294e8b6e58d486c3b": {
          "model_module": "@jupyter-widgets/controls",
          "model_name": "HTMLModel",
          "model_module_version": "1.5.0",
          "state": {
            "_view_name": "HTMLView",
            "style": "IPY_MODEL_6bc27dc491694595b00f65fa204ee73f",
            "_dom_classes": [],
            "description": "",
            "_model_name": "HTMLModel",
            "placeholder": "​",
            "_view_module": "@jupyter-widgets/controls",
            "_model_module_version": "1.5.0",
            "value": " 12/12 [00:02&lt;00:00,  4.06it/s]",
            "_view_count": null,
            "_view_module_version": "1.5.0",
            "description_tooltip": null,
            "_model_module": "@jupyter-widgets/controls",
            "layout": "IPY_MODEL_d2041b77d1e44c088fb8596a0c20bdfa"
          }
        },
        "20a52ac460f4418b9edb7c5d483bc4e3": {
          "model_module": "@jupyter-widgets/controls",
          "model_name": "DescriptionStyleModel",
          "model_module_version": "1.5.0",
          "state": {
            "_view_name": "StyleView",
            "_model_name": "DescriptionStyleModel",
            "description_width": "",
            "_view_module": "@jupyter-widgets/base",
            "_model_module_version": "1.5.0",
            "_view_count": null,
            "_view_module_version": "1.2.0",
            "_model_module": "@jupyter-widgets/controls"
          }
        },
        "17c27afafdca4de19f1aabf4fe3c6dbd": {
          "model_module": "@jupyter-widgets/base",
          "model_name": "LayoutModel",
          "model_module_version": "1.2.0",
          "state": {
            "_view_name": "LayoutView",
            "grid_template_rows": null,
            "right": null,
            "justify_content": null,
            "_view_module": "@jupyter-widgets/base",
            "overflow": null,
            "_model_module_version": "1.2.0",
            "_view_count": null,
            "flex_flow": null,
            "width": null,
            "min_width": null,
            "border": null,
            "align_items": null,
            "bottom": null,
            "_model_module": "@jupyter-widgets/base",
            "top": null,
            "grid_column": null,
            "overflow_y": null,
            "overflow_x": null,
            "grid_auto_flow": null,
            "grid_area": null,
            "grid_template_columns": null,
            "flex": null,
            "_model_name": "LayoutModel",
            "justify_items": null,
            "grid_row": null,
            "max_height": null,
            "align_content": null,
            "visibility": null,
            "align_self": null,
            "height": null,
            "min_height": null,
            "padding": null,
            "grid_auto_rows": null,
            "grid_gap": null,
            "max_width": null,
            "order": null,
            "_view_module_version": "1.2.0",
            "grid_template_areas": null,
            "object_position": null,
            "object_fit": null,
            "grid_auto_columns": null,
            "margin": null,
            "display": null,
            "left": null
          }
        },
        "f2cc008bd825440998aad6f5fcc62763": {
          "model_module": "@jupyter-widgets/controls",
          "model_name": "ProgressStyleModel",
          "model_module_version": "1.5.0",
          "state": {
            "_view_name": "StyleView",
            "_model_name": "ProgressStyleModel",
            "description_width": "",
            "_view_module": "@jupyter-widgets/base",
            "_model_module_version": "1.5.0",
            "_view_count": null,
            "_view_module_version": "1.2.0",
            "bar_color": null,
            "_model_module": "@jupyter-widgets/controls"
          }
        },
        "5b0ffd2d834043dfa352594d34334244": {
          "model_module": "@jupyter-widgets/base",
          "model_name": "LayoutModel",
          "model_module_version": "1.2.0",
          "state": {
            "_view_name": "LayoutView",
            "grid_template_rows": null,
            "right": null,
            "justify_content": null,
            "_view_module": "@jupyter-widgets/base",
            "overflow": null,
            "_model_module_version": "1.2.0",
            "_view_count": null,
            "flex_flow": null,
            "width": null,
            "min_width": null,
            "border": null,
            "align_items": null,
            "bottom": null,
            "_model_module": "@jupyter-widgets/base",
            "top": null,
            "grid_column": null,
            "overflow_y": null,
            "overflow_x": null,
            "grid_auto_flow": null,
            "grid_area": null,
            "grid_template_columns": null,
            "flex": null,
            "_model_name": "LayoutModel",
            "justify_items": null,
            "grid_row": null,
            "max_height": null,
            "align_content": null,
            "visibility": null,
            "align_self": null,
            "height": null,
            "min_height": null,
            "padding": null,
            "grid_auto_rows": null,
            "grid_gap": null,
            "max_width": null,
            "order": null,
            "_view_module_version": "1.2.0",
            "grid_template_areas": null,
            "object_position": null,
            "object_fit": null,
            "grid_auto_columns": null,
            "margin": null,
            "display": null,
            "left": null
          }
        },
        "6bc27dc491694595b00f65fa204ee73f": {
          "model_module": "@jupyter-widgets/controls",
          "model_name": "DescriptionStyleModel",
          "model_module_version": "1.5.0",
          "state": {
            "_view_name": "StyleView",
            "_model_name": "DescriptionStyleModel",
            "description_width": "",
            "_view_module": "@jupyter-widgets/base",
            "_model_module_version": "1.5.0",
            "_view_count": null,
            "_view_module_version": "1.2.0",
            "_model_module": "@jupyter-widgets/controls"
          }
        },
        "d2041b77d1e44c088fb8596a0c20bdfa": {
          "model_module": "@jupyter-widgets/base",
          "model_name": "LayoutModel",
          "model_module_version": "1.2.0",
          "state": {
            "_view_name": "LayoutView",
            "grid_template_rows": null,
            "right": null,
            "justify_content": null,
            "_view_module": "@jupyter-widgets/base",
            "overflow": null,
            "_model_module_version": "1.2.0",
            "_view_count": null,
            "flex_flow": null,
            "width": null,
            "min_width": null,
            "border": null,
            "align_items": null,
            "bottom": null,
            "_model_module": "@jupyter-widgets/base",
            "top": null,
            "grid_column": null,
            "overflow_y": null,
            "overflow_x": null,
            "grid_auto_flow": null,
            "grid_area": null,
            "grid_template_columns": null,
            "flex": null,
            "_model_name": "LayoutModel",
            "justify_items": null,
            "grid_row": null,
            "max_height": null,
            "align_content": null,
            "visibility": null,
            "align_self": null,
            "height": null,
            "min_height": null,
            "padding": null,
            "grid_auto_rows": null,
            "grid_gap": null,
            "max_width": null,
            "order": null,
            "_view_module_version": "1.2.0",
            "grid_template_areas": null,
            "object_position": null,
            "object_fit": null,
            "grid_auto_columns": null,
            "margin": null,
            "display": null,
            "left": null
          }
        }
      }
    }
  },
  "cells": [
    {
      "cell_type": "markdown",
      "metadata": {
        "id": "tontr1Xq-mrO"
      },
      "source": [
        "#딥러닝(민무홍) 중간고사 대체 과제 \n",
        "#2019312072 정주호\n"
      ]
    },
    {
      "cell_type": "markdown",
      "metadata": {
        "id": "eQXHzoMF-htb"
      },
      "source": [
        "주제 : 수업 과정에서 배운 내용을 기초로 2-class classification 을 수행하고 다음의 조건을 만족하는 보고서를 작성해 주세요.\n",
        "\n",
        " \n",
        "\n",
        "조건 : \n",
        "- 2-class classification에 알맞은 데이터 셋을 선정 및 활용 해주세요.\n",
        "- 데이터 셋을 exploring 하여 분석 해주세요.\n",
        "- 문제정의, 결과분석 및 결론를 기술 해주세요.\n",
        "- 수업 시간에 직접 만들어 본 모델의 메소드들을 적절히 사용해 주세요.\n",
        "  (필요한 경우 수정, 단 수정한 경우 수정한 이유와 결과를 주석으로 표기하여 모델의 정확도를 최대한 높여 주세요)\n",
        "\n",
        " \n",
        "\n",
        "*제출형식\n",
        "- 이름_학번.ipynb 파일로 업로드 해주세요. (ex. 민무홍_2003123456.ipynb)\n",
        "- 필요한 보고서 내용 서술은 텍스트 셀을 활용 해주세요. \n",
        "- 채점은 colab 파일을 직접 실행 해보면서 확인할 계획입니다.\n",
        " (필요한 라이브러리가 있으면 import 하는 코드도 적절히 넣어서 채점할 때 바로 확인할 수 있게 해주세요.)\n",
        "\n",
        "\n",
        "제출기간 : 10.19. ~ 10.24.(23:59)"
      ]
    },
    {
      "cell_type": "code",
      "metadata": {
        "id": "dPxTF14dq9v0"
      },
      "source": [
        ""
      ],
      "execution_count": null,
      "outputs": []
    },
    {
      "cell_type": "markdown",
      "metadata": {
        "id": "mYLvPzmVc1Ag"
      },
      "source": [
        "#문제정의\n",
        "과제 : 5110명의 뇌졸중 환자 데이터를 분석하여 뇌졸중에 걸렸는지 안걸렸는지 분류하는 이진 분류 문제 \n",
        "\n",
        "데이터 : 뇌줄중 환자의 특성 11개가 기록되어 있음\n",
        "\n",
        "**과제하면서 생긴 문제점**\n",
        "1. 환자 정보중 입력되지 않은 null값이 존재함 \n",
        "\n",
        "해결 방안 : null값을 하나라도 갖으면 그 데이터(행 전체)를 삭제 \n",
        "\n",
        "더 나은 해결 방안 : 결측치 값을 평균값으로 대체한다면 209개나 되는 데이터를 삭제하지 않고(낭비하지않고) 학습데이터로 재활용할 수 있어 정확도를 높일 수 있음. \n",
        "\n",
        "2. 데이터 값의 형변환 오류 \n",
        "\n",
        "해결방안 : 수업시간에 만든 모델과 sklearn에 내장되어 있는 모델을 사용하기 위해선 데이터 값이 int, float으로 표현되어야 함. 따라서 문자열로 구분되어 있는 데이터 값들을 고윳값으로 라벨링을 부여함. 그 후 라벨링을 토대로 int로 마킹을 다시 해주어 각 Feature별 데이터 특성이 학습에 반영되도록 수정함. \n",
        "\n",
        "\n",
        "**정확도 최대로 높이기** \n",
        "- Logistic Regression with Sci-kit learn : 94.4%\n",
        "- 수업시간에 직접 만든 Logistic Regression : 94.6%\n",
        "- 수업시간에 직접 만든 Single Layer NN : 94.5%\n",
        "- MLPClassifier with Sci-kit learn : 94.6%\n",
        "- SVM with Sci-kit learn : 96.03%\n",
        "- hyper parameter tuned Logistic Regression with Sci-kit learn : 96.03% \n",
        "\n",
        "\n",
        "#결과분석 및 결론 \n",
        "1. 수업시간에 직접 구현해본 모델들이 높은 정확도를 보이는 걸로 봐서 해당 데이터(2-class-classification)에 대해 적합한 모델로서 잘 작용한다고 볼 수 있음 \n",
        "2. 단일층신경망 (Single Layer) 가 Logistic Regression보다 정확도가 낮음\n",
        "- 정확도가 1%내외로 차이가 나기 때문에 데이터가 나눠질때 분포도에 따라서 영향을 받는다고 예측하였음. \n",
        "3. sci-kit learn에 내장되어 있는 Logistic Regression보다 수업시간에 만든 Logistic Regression의 정확도가 더 높음\n",
        "4. 다른 Classificaiton 모델들의 정확도를 모두 비교해봤을때 SVM의 성능이 가장 좋음 \n",
        "\n",
        "#한계점 및 본인 생각\n",
        "해당 데이터의 분포도를 보면 뇌졸중에 걸린사람(209)이 뇌졸중에 안걸린 사람(4700)명보다 압도적으로 적기 때문에 데이터의 부재가 정확도를 낮췄을 가능성이 크다. 만일 데이터 수가 충분해지면 정화도가 높아질 것. 그럼에도 불구하고 수업시간에 직접 만들어본 모델과 sklearn의 내정된 모델을 사용하여 평균 정확도가 95%가 넘었다는 것은 모델들이 데이터를 잘 학습하였다는 결론은 도출 할 수 있다. \n",
        "\n",
        "\n",
        "또한 수업시간에 직접 구현한 Logistic Regression과 SingleLayerNN으로 학습했을때 Logistic Regression 정확도가 더 높게 나왔는데 이는 NN의 epochs가 낮았기 때문이라고 생각한다. NN이 통상적으로 정확도가 더 높게 나와야하는데 epoch를 높였을때 실제로 정화도가 1-2% 높아질 때가 있다는 것을 확인하였다. 또한 데이터 수가 적어서 신경망이 온전히 학습하기에 부족했을 수도 있고, 데이터 수가 랜덤으로 나눠질 때 그 분포도에 따라서 정확도가 매번 바뀌기 때문에 오차 번위 안에서의 정확도 차이는 큰 의미가 없다고 판단하였다. \n",
        "\n",
        "마지막으로 SVM을 사용하였을 때 정확도가 다른 모델들보다 많이 높았는데 수업때 처럼 SVM을 직접 구현하여 향후 실험을 진행해보거나, SVM의 하이퍼파라미터를 찾아서 정확도를 높이는 연구도 가능해 보인다. "
      ]
    },
    {
      "cell_type": "markdown",
      "metadata": {
        "id": "4i6z5Jz9h4Bq"
      },
      "source": [
        "#1. 데이터 셋 분석\n",
        "데이터 출처 : https://www.kaggle.com/fedesoriano/stroke-prediction-dataset"
      ]
    },
    {
      "cell_type": "code",
      "metadata": {
        "id": "_v5ZpJBb-cio"
      },
      "source": [
        "import pandas as pd\n",
        "import numpy as np\n",
        "from matplotlib import pyplot as plt"
      ],
      "execution_count": 1,
      "outputs": []
    },
    {
      "cell_type": "code",
      "metadata": {
        "id": "vDyrkZsdAjyf"
      },
      "source": [
        "stroke = pd.read_csv('healthcare-dataset-stroke-data.csv')"
      ],
      "execution_count": 2,
      "outputs": []
    },
    {
      "cell_type": "code",
      "metadata": {
        "id": "ihtRe9w-A-v9",
        "colab": {
          "base_uri": "https://localhost:8080/"
        },
        "outputId": "46211da4-2b10-4fe3-b1c8-5112bc0b91ba"
      },
      "source": [
        "stroke.shape"
      ],
      "execution_count": 3,
      "outputs": [
        {
          "output_type": "execute_result",
          "data": {
            "text/plain": [
              "(5110, 12)"
            ]
          },
          "metadata": {},
          "execution_count": 3
        }
      ]
    },
    {
      "cell_type": "code",
      "metadata": {
        "id": "Ru7ZGgHyBXhm",
        "colab": {
          "base_uri": "https://localhost:8080/"
        },
        "outputId": "c61fbe21-3857-4d53-bdc9-cdf68f351c07"
      },
      "source": [
        "stroke.info()"
      ],
      "execution_count": 4,
      "outputs": [
        {
          "output_type": "stream",
          "name": "stdout",
          "text": [
            "<class 'pandas.core.frame.DataFrame'>\n",
            "RangeIndex: 5110 entries, 0 to 5109\n",
            "Data columns (total 12 columns):\n",
            " #   Column             Non-Null Count  Dtype  \n",
            "---  ------             --------------  -----  \n",
            " 0   id                 5110 non-null   int64  \n",
            " 1   gender             5110 non-null   object \n",
            " 2   age                5110 non-null   float64\n",
            " 3   hypertension       5110 non-null   int64  \n",
            " 4   heart_disease      5110 non-null   int64  \n",
            " 5   ever_married       5110 non-null   object \n",
            " 6   work_type          5110 non-null   object \n",
            " 7   Residence_type     5110 non-null   object \n",
            " 8   avg_glucose_level  5110 non-null   float64\n",
            " 9   bmi                4909 non-null   float64\n",
            " 10  smoking_status     5110 non-null   object \n",
            " 11  stroke             5110 non-null   int64  \n",
            "dtypes: float64(3), int64(4), object(5)\n",
            "memory usage: 479.2+ KB\n"
          ]
        }
      ]
    },
    {
      "cell_type": "code",
      "metadata": {
        "id": "8p6hTCKyHLUm",
        "colab": {
          "base_uri": "https://localhost:8080/",
          "height": 204
        },
        "outputId": "1f95de0b-2622-4a15-8e48-627b38b1250d"
      },
      "source": [
        "stroke.head()"
      ],
      "execution_count": 5,
      "outputs": [
        {
          "output_type": "execute_result",
          "data": {
            "text/html": [
              "<div>\n",
              "<style scoped>\n",
              "    .dataframe tbody tr th:only-of-type {\n",
              "        vertical-align: middle;\n",
              "    }\n",
              "\n",
              "    .dataframe tbody tr th {\n",
              "        vertical-align: top;\n",
              "    }\n",
              "\n",
              "    .dataframe thead th {\n",
              "        text-align: right;\n",
              "    }\n",
              "</style>\n",
              "<table border=\"1\" class=\"dataframe\">\n",
              "  <thead>\n",
              "    <tr style=\"text-align: right;\">\n",
              "      <th></th>\n",
              "      <th>id</th>\n",
              "      <th>gender</th>\n",
              "      <th>age</th>\n",
              "      <th>hypertension</th>\n",
              "      <th>heart_disease</th>\n",
              "      <th>ever_married</th>\n",
              "      <th>work_type</th>\n",
              "      <th>Residence_type</th>\n",
              "      <th>avg_glucose_level</th>\n",
              "      <th>bmi</th>\n",
              "      <th>smoking_status</th>\n",
              "      <th>stroke</th>\n",
              "    </tr>\n",
              "  </thead>\n",
              "  <tbody>\n",
              "    <tr>\n",
              "      <th>0</th>\n",
              "      <td>9046</td>\n",
              "      <td>Male</td>\n",
              "      <td>67.0</td>\n",
              "      <td>0</td>\n",
              "      <td>1</td>\n",
              "      <td>Yes</td>\n",
              "      <td>Private</td>\n",
              "      <td>Urban</td>\n",
              "      <td>228.69</td>\n",
              "      <td>36.6</td>\n",
              "      <td>formerly smoked</td>\n",
              "      <td>1</td>\n",
              "    </tr>\n",
              "    <tr>\n",
              "      <th>1</th>\n",
              "      <td>51676</td>\n",
              "      <td>Female</td>\n",
              "      <td>61.0</td>\n",
              "      <td>0</td>\n",
              "      <td>0</td>\n",
              "      <td>Yes</td>\n",
              "      <td>Self-employed</td>\n",
              "      <td>Rural</td>\n",
              "      <td>202.21</td>\n",
              "      <td>NaN</td>\n",
              "      <td>never smoked</td>\n",
              "      <td>1</td>\n",
              "    </tr>\n",
              "    <tr>\n",
              "      <th>2</th>\n",
              "      <td>31112</td>\n",
              "      <td>Male</td>\n",
              "      <td>80.0</td>\n",
              "      <td>0</td>\n",
              "      <td>1</td>\n",
              "      <td>Yes</td>\n",
              "      <td>Private</td>\n",
              "      <td>Rural</td>\n",
              "      <td>105.92</td>\n",
              "      <td>32.5</td>\n",
              "      <td>never smoked</td>\n",
              "      <td>1</td>\n",
              "    </tr>\n",
              "    <tr>\n",
              "      <th>3</th>\n",
              "      <td>60182</td>\n",
              "      <td>Female</td>\n",
              "      <td>49.0</td>\n",
              "      <td>0</td>\n",
              "      <td>0</td>\n",
              "      <td>Yes</td>\n",
              "      <td>Private</td>\n",
              "      <td>Urban</td>\n",
              "      <td>171.23</td>\n",
              "      <td>34.4</td>\n",
              "      <td>smokes</td>\n",
              "      <td>1</td>\n",
              "    </tr>\n",
              "    <tr>\n",
              "      <th>4</th>\n",
              "      <td>1665</td>\n",
              "      <td>Female</td>\n",
              "      <td>79.0</td>\n",
              "      <td>1</td>\n",
              "      <td>0</td>\n",
              "      <td>Yes</td>\n",
              "      <td>Self-employed</td>\n",
              "      <td>Rural</td>\n",
              "      <td>174.12</td>\n",
              "      <td>24.0</td>\n",
              "      <td>never smoked</td>\n",
              "      <td>1</td>\n",
              "    </tr>\n",
              "  </tbody>\n",
              "</table>\n",
              "</div>"
            ],
            "text/plain": [
              "      id  gender   age  ...   bmi   smoking_status stroke\n",
              "0   9046    Male  67.0  ...  36.6  formerly smoked      1\n",
              "1  51676  Female  61.0  ...   NaN     never smoked      1\n",
              "2  31112    Male  80.0  ...  32.5     never smoked      1\n",
              "3  60182  Female  49.0  ...  34.4           smokes      1\n",
              "4   1665  Female  79.0  ...  24.0     never smoked      1\n",
              "\n",
              "[5 rows x 12 columns]"
            ]
          },
          "metadata": {},
          "execution_count": 5
        }
      ]
    },
    {
      "cell_type": "markdown",
      "metadata": {
        "id": "bRU7PLk4iL5-"
      },
      "source": [
        "# 분석 결과\n",
        "1. 전체 데이터 수는 5110개 이고 column은 11개의 Feature과 1개의 Label(target)으로 이루어져 있다.\n",
        "2.  column 세부 정보\n",
        "-  id : 데이터들을 구분하는 고유 key값으로 환자 번호에 해당한다. \n",
        "- gender : 환자의 성별을 나타냄 (Male, Female, Other)\n",
        "- age : 환자 나이\n",
        "- hypertension : 고혈압 여부 (0: 부정, 1:긍정)\n",
        "- heart_disease : 심장병 여부 (0: 부정, 1:긍정)\n",
        "- ever_married : 결혼 여부 (Yes, No)\n",
        "- work_type : 업종 (Private, Self-employed, Govt_job, children, Never_worked)\n",
        "- Residence_type : 거주 유형 (Urban, Rural)\n",
        "- avg_glucose_level : 평균 포도당 수치 \n",
        "- smoking_status : 흡연 여부 (formerly smoked, never smoked, smokes, Unknown)\n",
        "- bmi : 체질량지수(Body Mass Index)\n",
        "3. Label 정보 \n",
        "- stroke : 뇌졸중 진단 여부 (0: 부정, 1:긍정)\n",
        "4. bmi를 제외한 모든 column은 null값이 존재하지 않으며, bmi에서 201개의 null값이 발견됨.\n",
        "5. Data Type \n",
        "- str :gender, ever-married, work-type, Residence_type,smoking_status\n",
        "- int : id, hypertension, heart_disease, stroke\n",
        "- float : age, avg_glucose_level, bmi"
      ]
    },
    {
      "cell_type": "code",
      "metadata": {
        "id": "T5UrLmlWJ-39",
        "colab": {
          "base_uri": "https://localhost:8080/"
        },
        "outputId": "44d09861-5f57-4064-829b-2714b35d606c"
      },
      "source": [
        "#null값 확인하기 \n",
        "stroke.isnull().sum()"
      ],
      "execution_count": 6,
      "outputs": [
        {
          "output_type": "execute_result",
          "data": {
            "text/plain": [
              "id                     0\n",
              "gender                 0\n",
              "age                    0\n",
              "hypertension           0\n",
              "heart_disease          0\n",
              "ever_married           0\n",
              "work_type              0\n",
              "Residence_type         0\n",
              "avg_glucose_level      0\n",
              "bmi                  201\n",
              "smoking_status         0\n",
              "stroke                 0\n",
              "dtype: int64"
            ]
          },
          "metadata": {},
          "execution_count": 6
        }
      ]
    },
    {
      "cell_type": "code",
      "metadata": {
        "id": "n9QVhq9DKJOy"
      },
      "source": [
        "#결측지 확인 결과 bmi에서 201개가 null값을 가지므로 삭제 \n",
        "stroke = stroke.dropna()"
      ],
      "execution_count": 7,
      "outputs": []
    },
    {
      "cell_type": "markdown",
      "metadata": {
        "id": "9MNq1b71nUu2"
      },
      "source": [
        "#문제1\n",
        "문제 : bmi에서 201개의 null값을 가지므로 해당 data를 제거해 줘야함\n",
        "\n",
        "\n",
        "해결 : null값을 가지는 모든 데이터들을 drop함"
      ]
    },
    {
      "cell_type": "code",
      "metadata": {
        "id": "lr6aefraK_an",
        "colab": {
          "base_uri": "https://localhost:8080/"
        },
        "outputId": "5a33a293-899c-4f77-de10-a4840ff588fe"
      },
      "source": [
        "stroke.info()"
      ],
      "execution_count": 8,
      "outputs": [
        {
          "output_type": "stream",
          "name": "stdout",
          "text": [
            "<class 'pandas.core.frame.DataFrame'>\n",
            "Int64Index: 4909 entries, 0 to 5109\n",
            "Data columns (total 12 columns):\n",
            " #   Column             Non-Null Count  Dtype  \n",
            "---  ------             --------------  -----  \n",
            " 0   id                 4909 non-null   int64  \n",
            " 1   gender             4909 non-null   object \n",
            " 2   age                4909 non-null   float64\n",
            " 3   hypertension       4909 non-null   int64  \n",
            " 4   heart_disease      4909 non-null   int64  \n",
            " 5   ever_married       4909 non-null   object \n",
            " 6   work_type          4909 non-null   object \n",
            " 7   Residence_type     4909 non-null   object \n",
            " 8   avg_glucose_level  4909 non-null   float64\n",
            " 9   bmi                4909 non-null   float64\n",
            " 10  smoking_status     4909 non-null   object \n",
            " 11  stroke             4909 non-null   int64  \n",
            "dtypes: float64(3), int64(4), object(5)\n",
            "memory usage: 498.6+ KB\n"
          ]
        }
      ]
    },
    {
      "cell_type": "code",
      "metadata": {
        "id": "pCuh2T-RG-ns",
        "colab": {
          "base_uri": "https://localhost:8080/",
          "height": 297
        },
        "outputId": "39f3825c-96cb-4bac-b23c-5e37e19e7a6b"
      },
      "source": [
        "stroke.describe()"
      ],
      "execution_count": 9,
      "outputs": [
        {
          "output_type": "execute_result",
          "data": {
            "text/html": [
              "<div>\n",
              "<style scoped>\n",
              "    .dataframe tbody tr th:only-of-type {\n",
              "        vertical-align: middle;\n",
              "    }\n",
              "\n",
              "    .dataframe tbody tr th {\n",
              "        vertical-align: top;\n",
              "    }\n",
              "\n",
              "    .dataframe thead th {\n",
              "        text-align: right;\n",
              "    }\n",
              "</style>\n",
              "<table border=\"1\" class=\"dataframe\">\n",
              "  <thead>\n",
              "    <tr style=\"text-align: right;\">\n",
              "      <th></th>\n",
              "      <th>id</th>\n",
              "      <th>age</th>\n",
              "      <th>hypertension</th>\n",
              "      <th>heart_disease</th>\n",
              "      <th>avg_glucose_level</th>\n",
              "      <th>bmi</th>\n",
              "      <th>stroke</th>\n",
              "    </tr>\n",
              "  </thead>\n",
              "  <tbody>\n",
              "    <tr>\n",
              "      <th>count</th>\n",
              "      <td>4909.000000</td>\n",
              "      <td>4909.000000</td>\n",
              "      <td>4909.000000</td>\n",
              "      <td>4909.000000</td>\n",
              "      <td>4909.000000</td>\n",
              "      <td>4909.000000</td>\n",
              "      <td>4909.000000</td>\n",
              "    </tr>\n",
              "    <tr>\n",
              "      <th>mean</th>\n",
              "      <td>37064.313506</td>\n",
              "      <td>42.865374</td>\n",
              "      <td>0.091872</td>\n",
              "      <td>0.049501</td>\n",
              "      <td>105.305150</td>\n",
              "      <td>28.893237</td>\n",
              "      <td>0.042575</td>\n",
              "    </tr>\n",
              "    <tr>\n",
              "      <th>std</th>\n",
              "      <td>20995.098457</td>\n",
              "      <td>22.555115</td>\n",
              "      <td>0.288875</td>\n",
              "      <td>0.216934</td>\n",
              "      <td>44.424341</td>\n",
              "      <td>7.854067</td>\n",
              "      <td>0.201917</td>\n",
              "    </tr>\n",
              "    <tr>\n",
              "      <th>min</th>\n",
              "      <td>77.000000</td>\n",
              "      <td>0.080000</td>\n",
              "      <td>0.000000</td>\n",
              "      <td>0.000000</td>\n",
              "      <td>55.120000</td>\n",
              "      <td>10.300000</td>\n",
              "      <td>0.000000</td>\n",
              "    </tr>\n",
              "    <tr>\n",
              "      <th>25%</th>\n",
              "      <td>18605.000000</td>\n",
              "      <td>25.000000</td>\n",
              "      <td>0.000000</td>\n",
              "      <td>0.000000</td>\n",
              "      <td>77.070000</td>\n",
              "      <td>23.500000</td>\n",
              "      <td>0.000000</td>\n",
              "    </tr>\n",
              "    <tr>\n",
              "      <th>50%</th>\n",
              "      <td>37608.000000</td>\n",
              "      <td>44.000000</td>\n",
              "      <td>0.000000</td>\n",
              "      <td>0.000000</td>\n",
              "      <td>91.680000</td>\n",
              "      <td>28.100000</td>\n",
              "      <td>0.000000</td>\n",
              "    </tr>\n",
              "    <tr>\n",
              "      <th>75%</th>\n",
              "      <td>55220.000000</td>\n",
              "      <td>60.000000</td>\n",
              "      <td>0.000000</td>\n",
              "      <td>0.000000</td>\n",
              "      <td>113.570000</td>\n",
              "      <td>33.100000</td>\n",
              "      <td>0.000000</td>\n",
              "    </tr>\n",
              "    <tr>\n",
              "      <th>max</th>\n",
              "      <td>72940.000000</td>\n",
              "      <td>82.000000</td>\n",
              "      <td>1.000000</td>\n",
              "      <td>1.000000</td>\n",
              "      <td>271.740000</td>\n",
              "      <td>97.600000</td>\n",
              "      <td>1.000000</td>\n",
              "    </tr>\n",
              "  </tbody>\n",
              "</table>\n",
              "</div>"
            ],
            "text/plain": [
              "                 id          age  ...          bmi       stroke\n",
              "count   4909.000000  4909.000000  ...  4909.000000  4909.000000\n",
              "mean   37064.313506    42.865374  ...    28.893237     0.042575\n",
              "std    20995.098457    22.555115  ...     7.854067     0.201917\n",
              "min       77.000000     0.080000  ...    10.300000     0.000000\n",
              "25%    18605.000000    25.000000  ...    23.500000     0.000000\n",
              "50%    37608.000000    44.000000  ...    28.100000     0.000000\n",
              "75%    55220.000000    60.000000  ...    33.100000     0.000000\n",
              "max    72940.000000    82.000000  ...    97.600000     1.000000\n",
              "\n",
              "[8 rows x 7 columns]"
            ]
          },
          "metadata": {},
          "execution_count": 9
        }
      ]
    },
    {
      "cell_type": "markdown",
      "metadata": {
        "id": "rI8h6usfnlcy"
      },
      "source": [
        "#문제2 \n",
        "문제 : 데이터 중 문자열로된 데이터 값은 학습시킬 수 없다\n",
        "\n",
        "\n",
        "해결 : 문자열로 된 데이터 값들을 유형별로 라벨링 해준다 "
      ]
    },
    {
      "cell_type": "code",
      "metadata": {
        "id": "EtqdgoT9LRCh",
        "colab": {
          "base_uri": "https://localhost:8080/"
        },
        "outputId": "3af63595-0d42-4c7e-a8ef-63213b417bc4"
      },
      "source": [
        "#문자열로 된 변수를 정수로 변환하기 위해 고유값확인 \n",
        "print(stroke['gender'].unique())\n",
        "print(stroke['ever_married'].unique())\n",
        "print(stroke['work_type'].unique())\n",
        "print(stroke['Residence_type'].unique())\n",
        "print(stroke['smoking_status'].unique())"
      ],
      "execution_count": 10,
      "outputs": [
        {
          "output_type": "stream",
          "name": "stdout",
          "text": [
            "['Male' 'Female' 'Other']\n",
            "['Yes' 'No']\n",
            "['Private' 'Self-employed' 'Govt_job' 'children' 'Never_worked']\n",
            "['Urban' 'Rural']\n",
            "['formerly smoked' 'never smoked' 'smokes' 'Unknown']\n"
          ]
        }
      ]
    },
    {
      "cell_type": "code",
      "metadata": {
        "id": "we-kd1VBL7W-"
      },
      "source": [
        "#문자데이터의 숫자 변환 \n",
        "stroke.loc[stroke['gender']=='Male','gender']=0\n",
        "stroke.loc[stroke['gender']=='Female','gender']=1\n",
        "stroke.loc[stroke['gender']=='Other','gender']=2\n",
        "\n",
        "stroke.loc[stroke['ever_married']=='Yes', 'ever_married']=0\n",
        "stroke.loc[stroke['ever_married']=='No', 'ever_married']=1\n",
        "\n",
        "stroke.loc[stroke['work_type']=='Private', 'work_type']=0\n",
        "stroke.loc[stroke['work_type']=='Self-employed', 'work_type']=1\n",
        "stroke.loc[stroke['work_type']=='Govt_job', 'work_type']=2\n",
        "stroke.loc[stroke['work_type']=='children', 'work_type']=3\n",
        "stroke.loc[stroke['work_type']=='Never_worked', 'work_type']=4\n",
        "\n",
        "stroke.loc[stroke['Residence_type']=='Urban', 'Residence_type']=0\n",
        "stroke.loc[stroke['Residence_type']=='Rural', 'Residence_type']=1\n",
        "\n",
        "stroke.loc[stroke['smoking_status']=='formerly smoked', 'smoking_status']=0\n",
        "stroke.loc[stroke['smoking_status']=='never smoked', 'smoking_status']=1\n",
        "stroke.loc[stroke['smoking_status']=='smokes', 'smoking_status']=2\n",
        "stroke.loc[stroke['smoking_status']=='Unknown', 'smoking_status']=3"
      ],
      "execution_count": 11,
      "outputs": []
    },
    {
      "cell_type": "code",
      "metadata": {
        "id": "zHKTqkyCNKBL",
        "colab": {
          "base_uri": "https://localhost:8080/",
          "height": 204
        },
        "outputId": "2e9733d7-0700-498e-c162-e7f2eb4dd3a5"
      },
      "source": [
        "#문자 변수들이 숫자로 변환된 것을 확인할 수 있다. \n",
        "stroke.head()"
      ],
      "execution_count": 12,
      "outputs": [
        {
          "output_type": "execute_result",
          "data": {
            "text/html": [
              "<div>\n",
              "<style scoped>\n",
              "    .dataframe tbody tr th:only-of-type {\n",
              "        vertical-align: middle;\n",
              "    }\n",
              "\n",
              "    .dataframe tbody tr th {\n",
              "        vertical-align: top;\n",
              "    }\n",
              "\n",
              "    .dataframe thead th {\n",
              "        text-align: right;\n",
              "    }\n",
              "</style>\n",
              "<table border=\"1\" class=\"dataframe\">\n",
              "  <thead>\n",
              "    <tr style=\"text-align: right;\">\n",
              "      <th></th>\n",
              "      <th>id</th>\n",
              "      <th>gender</th>\n",
              "      <th>age</th>\n",
              "      <th>hypertension</th>\n",
              "      <th>heart_disease</th>\n",
              "      <th>ever_married</th>\n",
              "      <th>work_type</th>\n",
              "      <th>Residence_type</th>\n",
              "      <th>avg_glucose_level</th>\n",
              "      <th>bmi</th>\n",
              "      <th>smoking_status</th>\n",
              "      <th>stroke</th>\n",
              "    </tr>\n",
              "  </thead>\n",
              "  <tbody>\n",
              "    <tr>\n",
              "      <th>0</th>\n",
              "      <td>9046</td>\n",
              "      <td>0</td>\n",
              "      <td>67.0</td>\n",
              "      <td>0</td>\n",
              "      <td>1</td>\n",
              "      <td>0</td>\n",
              "      <td>0</td>\n",
              "      <td>0</td>\n",
              "      <td>228.69</td>\n",
              "      <td>36.6</td>\n",
              "      <td>0</td>\n",
              "      <td>1</td>\n",
              "    </tr>\n",
              "    <tr>\n",
              "      <th>2</th>\n",
              "      <td>31112</td>\n",
              "      <td>0</td>\n",
              "      <td>80.0</td>\n",
              "      <td>0</td>\n",
              "      <td>1</td>\n",
              "      <td>0</td>\n",
              "      <td>0</td>\n",
              "      <td>1</td>\n",
              "      <td>105.92</td>\n",
              "      <td>32.5</td>\n",
              "      <td>1</td>\n",
              "      <td>1</td>\n",
              "    </tr>\n",
              "    <tr>\n",
              "      <th>3</th>\n",
              "      <td>60182</td>\n",
              "      <td>1</td>\n",
              "      <td>49.0</td>\n",
              "      <td>0</td>\n",
              "      <td>0</td>\n",
              "      <td>0</td>\n",
              "      <td>0</td>\n",
              "      <td>0</td>\n",
              "      <td>171.23</td>\n",
              "      <td>34.4</td>\n",
              "      <td>2</td>\n",
              "      <td>1</td>\n",
              "    </tr>\n",
              "    <tr>\n",
              "      <th>4</th>\n",
              "      <td>1665</td>\n",
              "      <td>1</td>\n",
              "      <td>79.0</td>\n",
              "      <td>1</td>\n",
              "      <td>0</td>\n",
              "      <td>0</td>\n",
              "      <td>1</td>\n",
              "      <td>1</td>\n",
              "      <td>174.12</td>\n",
              "      <td>24.0</td>\n",
              "      <td>1</td>\n",
              "      <td>1</td>\n",
              "    </tr>\n",
              "    <tr>\n",
              "      <th>5</th>\n",
              "      <td>56669</td>\n",
              "      <td>0</td>\n",
              "      <td>81.0</td>\n",
              "      <td>0</td>\n",
              "      <td>0</td>\n",
              "      <td>0</td>\n",
              "      <td>0</td>\n",
              "      <td>0</td>\n",
              "      <td>186.21</td>\n",
              "      <td>29.0</td>\n",
              "      <td>0</td>\n",
              "      <td>1</td>\n",
              "    </tr>\n",
              "  </tbody>\n",
              "</table>\n",
              "</div>"
            ],
            "text/plain": [
              "      id gender   age  ...   bmi  smoking_status stroke\n",
              "0   9046      0  67.0  ...  36.6               0      1\n",
              "2  31112      0  80.0  ...  32.5               1      1\n",
              "3  60182      1  49.0  ...  34.4               2      1\n",
              "4   1665      1  79.0  ...  24.0               1      1\n",
              "5  56669      0  81.0  ...  29.0               0      1\n",
              "\n",
              "[5 rows x 12 columns]"
            ]
          },
          "metadata": {},
          "execution_count": 12
        }
      ]
    },
    {
      "cell_type": "markdown",
      "metadata": {
        "id": "Y8MM7IUeog6J"
      },
      "source": [
        "#데이터 붙포 화인 : boxplot으로 결측치 확인하기 "
      ]
    },
    {
      "cell_type": "code",
      "metadata": {
        "id": "XHx3oIdUVxOO",
        "colab": {
          "base_uri": "https://localhost:8080/",
          "height": 726
        },
        "outputId": "dfe8ed49-7df8-4a3d-f843-cef1014b76c6"
      },
      "source": [
        "#boxplot으로 이상치 확인하기\n",
        "\n",
        "plt.figure(figsize=(20,20))\n",
        "plt.subplot(441)\n",
        "plt.title('age')\n",
        "plt.boxplot(stroke['age'],meanline=True, showmeans=True)\n",
        "\n",
        "plt.subplot(442)\n",
        "plt.title('avg_glucose_level')\n",
        "plt.boxplot(stroke['avg_glucose_level'],meanline=True, showmeans=True)\n",
        "\n",
        "plt.subplot(443)\n",
        "plt.title('bmi')\n",
        "plt.boxplot(stroke['bmi'],meanline=True, showmeans=True)\n",
        "\n",
        "plt.subplot(444)\n",
        "plt.title('gender')\n",
        "plt.boxplot(stroke['gender'],meanline=True, showmeans=True)\n",
        "\n",
        "plt.subplot(445)\n",
        "plt.title('work_type')\n",
        "plt.boxplot(stroke['work_type'],meanline=True, showmeans=True)\n",
        "\n",
        "plt.subplot(446)\n",
        "plt.title('Residence_type')\n",
        "plt.boxplot(stroke['Residence_type'],meanline=True, showmeans=True)\n",
        "\n",
        "plt.subplot(447)\n",
        "plt.title('ever_married')\n",
        "plt.boxplot(stroke['ever_married'],meanline=True, showmeans=True)\n",
        "\n",
        "plt.subplot(448)\n",
        "plt.title('smoking_status')\n",
        "plt.boxplot(stroke['smoking_status'],meanline=True, showmeans=True)"
      ],
      "execution_count": 13,
      "outputs": [
        {
          "output_type": "execute_result",
          "data": {
            "text/plain": [
              "{'boxes': [<matplotlib.lines.Line2D at 0x7f5a3837c650>],\n",
              " 'caps': [<matplotlib.lines.Line2D at 0x7f5a38385690>,\n",
              "  <matplotlib.lines.Line2D at 0x7f5a38385bd0>],\n",
              " 'fliers': [<matplotlib.lines.Line2D at 0x7f5a3830cc10>],\n",
              " 'means': [<matplotlib.lines.Line2D at 0x7f5a3830c6d0>],\n",
              " 'medians': [<matplotlib.lines.Line2D at 0x7f5a3830c190>],\n",
              " 'whiskers': [<matplotlib.lines.Line2D at 0x7f5a3837cbd0>,\n",
              "  <matplotlib.lines.Line2D at 0x7f5a38385150>]}"
            ]
          },
          "metadata": {},
          "execution_count": 13
        },
        {
          "output_type": "display_data",
          "data": {
            "image/png": "[encoded data removed]",
            "text/plain": [
              "<Figure size 1440x1440 with 8 Axes>"
            ]
          },
          "metadata": {
            "needs_background": "light"
          }
        }
      ]
    },
    {
      "cell_type": "code",
      "metadata": {
        "id": "AXSUoOOcbkHc",
        "colab": {
          "base_uri": "https://localhost:8080/",
          "height": 204
        },
        "outputId": "591660e6-aeb1-4f42-8db3-e0083b777679"
      },
      "source": [
        "stroke.head()"
      ],
      "execution_count": 14,
      "outputs": [
        {
          "output_type": "execute_result",
          "data": {
            "text/html": [
              "<div>\n",
              "<style scoped>\n",
              "    .dataframe tbody tr th:only-of-type {\n",
              "        vertical-align: middle;\n",
              "    }\n",
              "\n",
              "    .dataframe tbody tr th {\n",
              "        vertical-align: top;\n",
              "    }\n",
              "\n",
              "    .dataframe thead th {\n",
              "        text-align: right;\n",
              "    }\n",
              "</style>\n",
              "<table border=\"1\" class=\"dataframe\">\n",
              "  <thead>\n",
              "    <tr style=\"text-align: right;\">\n",
              "      <th></th>\n",
              "      <th>id</th>\n",
              "      <th>gender</th>\n",
              "      <th>age</th>\n",
              "      <th>hypertension</th>\n",
              "      <th>heart_disease</th>\n",
              "      <th>ever_married</th>\n",
              "      <th>work_type</th>\n",
              "      <th>Residence_type</th>\n",
              "      <th>avg_glucose_level</th>\n",
              "      <th>bmi</th>\n",
              "      <th>smoking_status</th>\n",
              "      <th>stroke</th>\n",
              "    </tr>\n",
              "  </thead>\n",
              "  <tbody>\n",
              "    <tr>\n",
              "      <th>0</th>\n",
              "      <td>9046</td>\n",
              "      <td>0</td>\n",
              "      <td>67.0</td>\n",
              "      <td>0</td>\n",
              "      <td>1</td>\n",
              "      <td>0</td>\n",
              "      <td>0</td>\n",
              "      <td>0</td>\n",
              "      <td>228.69</td>\n",
              "      <td>36.6</td>\n",
              "      <td>0</td>\n",
              "      <td>1</td>\n",
              "    </tr>\n",
              "    <tr>\n",
              "      <th>2</th>\n",
              "      <td>31112</td>\n",
              "      <td>0</td>\n",
              "      <td>80.0</td>\n",
              "      <td>0</td>\n",
              "      <td>1</td>\n",
              "      <td>0</td>\n",
              "      <td>0</td>\n",
              "      <td>1</td>\n",
              "      <td>105.92</td>\n",
              "      <td>32.5</td>\n",
              "      <td>1</td>\n",
              "      <td>1</td>\n",
              "    </tr>\n",
              "    <tr>\n",
              "      <th>3</th>\n",
              "      <td>60182</td>\n",
              "      <td>1</td>\n",
              "      <td>49.0</td>\n",
              "      <td>0</td>\n",
              "      <td>0</td>\n",
              "      <td>0</td>\n",
              "      <td>0</td>\n",
              "      <td>0</td>\n",
              "      <td>171.23</td>\n",
              "      <td>34.4</td>\n",
              "      <td>2</td>\n",
              "      <td>1</td>\n",
              "    </tr>\n",
              "    <tr>\n",
              "      <th>4</th>\n",
              "      <td>1665</td>\n",
              "      <td>1</td>\n",
              "      <td>79.0</td>\n",
              "      <td>1</td>\n",
              "      <td>0</td>\n",
              "      <td>0</td>\n",
              "      <td>1</td>\n",
              "      <td>1</td>\n",
              "      <td>174.12</td>\n",
              "      <td>24.0</td>\n",
              "      <td>1</td>\n",
              "      <td>1</td>\n",
              "    </tr>\n",
              "    <tr>\n",
              "      <th>5</th>\n",
              "      <td>56669</td>\n",
              "      <td>0</td>\n",
              "      <td>81.0</td>\n",
              "      <td>0</td>\n",
              "      <td>0</td>\n",
              "      <td>0</td>\n",
              "      <td>0</td>\n",
              "      <td>0</td>\n",
              "      <td>186.21</td>\n",
              "      <td>29.0</td>\n",
              "      <td>0</td>\n",
              "      <td>1</td>\n",
              "    </tr>\n",
              "  </tbody>\n",
              "</table>\n",
              "</div>"
            ],
            "text/plain": [
              "      id gender   age  ...   bmi  smoking_status stroke\n",
              "0   9046      0  67.0  ...  36.6               0      1\n",
              "2  31112      0  80.0  ...  32.5               1      1\n",
              "3  60182      1  49.0  ...  34.4               2      1\n",
              "4   1665      1  79.0  ...  24.0               1      1\n",
              "5  56669      0  81.0  ...  29.0               0      1\n",
              "\n",
              "[5 rows x 12 columns]"
            ]
          },
          "metadata": {},
          "execution_count": 14
        }
      ]
    },
    {
      "cell_type": "markdown",
      "metadata": {
        "id": "LMQx_saeotkW"
      },
      "source": [
        "#2.학습을 위해 데이터셋 나누기 "
      ]
    },
    {
      "cell_type": "code",
      "metadata": {
        "id": "rVIrjbbZOw_z"
      },
      "source": [
        "#feature과 label로 나누기 \n",
        "X=stroke[stroke.columns[:-1]]\n",
        "y=stroke['stroke']"
      ],
      "execution_count": 15,
      "outputs": []
    },
    {
      "cell_type": "code",
      "metadata": {
        "colab": {
          "base_uri": "https://localhost:8080/"
        },
        "id": "BaoHUtUZuz6g",
        "outputId": "861aea58-a4ab-4c51-b2ae-98aea0359c55"
      },
      "source": [
        "#뇌졸중 걸린 안걸린 사람 4700명 걸리 사람 209명\n",
        "y.value_counts()"
      ],
      "execution_count": 16,
      "outputs": [
        {
          "output_type": "execute_result",
          "data": {
            "text/plain": [
              "0    4700\n",
              "1     209\n",
              "Name: stroke, dtype: int64"
            ]
          },
          "metadata": {},
          "execution_count": 16
        }
      ]
    },
    {
      "cell_type": "code",
      "metadata": {
        "id": "pvZAkvJEO2CY",
        "colab": {
          "base_uri": "https://localhost:8080/"
        },
        "outputId": "34e44a2b-5fe1-4c47-96d6-29d2f778fa26"
      },
      "source": [
        "#데이터 셋 분할\n",
        "#학습데이터 80%\n",
        "#테스트데이터 20%\n",
        "\n",
        "from sklearn.model_selection import train_test_split\n",
        "\n",
        "#전체데이터에서 학습데이터셋과 테스트셋으로 나눈다\n",
        "X_train,X_test,Y_train,Y_test = train_test_split(X,y,test_size=0.2,random_state=42)\n",
        "\n",
        "print(X_train.shape)\n",
        "print(X_test.shape)"
      ],
      "execution_count": 17,
      "outputs": [
        {
          "output_type": "stream",
          "name": "stdout",
          "text": [
            "(3927, 11)\n",
            "(982, 11)\n"
          ]
        }
      ]
    },
    {
      "cell_type": "markdown",
      "metadata": {
        "id": "OOM7EJ-01Vwh"
      },
      "source": [
        "#Logistic Regression with Sci-kit learn"
      ]
    },
    {
      "cell_type": "code",
      "metadata": {
        "id": "iaAZhp80PXw_",
        "colab": {
          "base_uri": "https://localhost:8080/"
        },
        "outputId": "de951631-f9da-4bdd-d747-51b67b539c62"
      },
      "source": [
        "from sklearn.linear_model import SGDClassifier\n",
        "\n",
        "sgd = SGDClassifier(loss='log',max_iter=100,tol=1e-3,random_state=0)\n",
        "\n",
        "sgd.fit(X_train,Y_train)\n",
        "sgd.score(X_test,Y_test)"
      ],
      "execution_count": 18,
      "outputs": [
        {
          "output_type": "stream",
          "name": "stderr",
          "text": [
            "/usr/local/lib/python3.7/dist-packages/sklearn/linear_model/_stochastic_gradient.py:557: ConvergenceWarning: Maximum number of iteration reached before convergence. Consider increasing max_iter to improve the fit.\n",
            "  ConvergenceWarning)\n"
          ]
        },
        {
          "output_type": "execute_result",
          "data": {
            "text/plain": [
              "0.9439918533604889"
            ]
          },
          "metadata": {},
          "execution_count": 18
        }
      ]
    },
    {
      "cell_type": "code",
      "metadata": {
        "id": "WaHicWKLZlah",
        "colab": {
          "base_uri": "https://localhost:8080/"
        },
        "outputId": "efef42ec-8b4a-417d-e4a0-f5b9a1a605ea"
      },
      "source": [
        "sgd.predict(X_test[:20])"
      ],
      "execution_count": 19,
      "outputs": [
        {
          "output_type": "execute_result",
          "data": {
            "text/plain": [
              "array([0, 0, 0, 0, 0, 0, 0, 0, 0, 0, 0, 0, 0, 0, 0, 0, 0, 0, 0, 0])"
            ]
          },
          "metadata": {},
          "execution_count": 19
        }
      ]
    },
    {
      "cell_type": "code",
      "metadata": {
        "id": "Mov_D1cRZ0W0",
        "colab": {
          "base_uri": "https://localhost:8080/"
        },
        "outputId": "912cfa0c-9e72-4ea8-b791-ea8d1ed9b0ea"
      },
      "source": [
        "Y_test[:10]"
      ],
      "execution_count": 20,
      "outputs": [
        {
          "output_type": "execute_result",
          "data": {
            "text/plain": [
              "4336    0\n",
              "3709    0\n",
              "964     0\n",
              "2647    0\n",
              "3262    0\n",
              "1279    0\n",
              "2113    0\n",
              "3236    0\n",
              "3983    0\n",
              "3544    0\n",
              "Name: stroke, dtype: int64"
            ]
          },
          "metadata": {},
          "execution_count": 20
        }
      ]
    },
    {
      "cell_type": "markdown",
      "metadata": {
        "id": "o-IOCg-tvPZe"
      },
      "source": [
        "#수업시간에 직접 만든 Logistic Regression"
      ]
    },
    {
      "cell_type": "code",
      "metadata": {
        "id": "4_1LwVP5yNh2"
      },
      "source": [
        "class Neuron:\n",
        "  def __init__ (self):\n",
        "    self.w = 1.0\n",
        "    self.b = 1.0\n",
        "\n",
        "  def fwpass(self, x):\n",
        "    y_hat = self.w * x + self.b \n",
        "    return y_hat\n",
        "\n",
        "  def bwpass(self, x, err):\n",
        "    w_grad = x * err \n",
        "    b_grad = 1 * err\n",
        "    return w_grad, b_grad\n",
        "\n",
        "  def fit(self, x, y, epochs=100):\n",
        "    for i in range(epochs):\n",
        "      for x_i, y_i in zip(x, y):\n",
        "        y_hat = self.fwpass(x_i)\n",
        "        err = -(y_i - y_hat)\n",
        "        w_grad, b_grad = self.bwpass(x_i, err)\n",
        "        self.w -= w_grad\n",
        "        self.b -= b_grad "
      ],
      "execution_count": 21,
      "outputs": []
    },
    {
      "cell_type": "code",
      "metadata": {
        "id": "aAusbjdshwCW"
      },
      "source": [
        "class LogisticNeuron: \n",
        "  def init (self):\n",
        "    self.w = None\n",
        "    self.b = None\n",
        "  \n",
        "  def fwpass(self, x):\n",
        "    z = np.sum(x*self.w) + self.b\n",
        "    return z\n",
        "\n",
        "  def bwpass(self, x, err):\n",
        "    w_grad = x*err\n",
        "    b_grad = 1*err    \n",
        "    return w_grad, b_grad\n",
        "\n",
        "  def fit(self, x, y, epochs=100):\n",
        "    self.w = np.ones(x.shape[1])  \n",
        "    self.b = 0\n",
        "\n",
        "    for i in range(epochs):\n",
        "      for x_i, y_i in zip(x, y):\n",
        "        z = self.fwpass(x_i)\n",
        "        a = self.activation(z)\n",
        "        err = -(y_i - a)\n",
        "        w_grad, b_grad = self.bwpass(x_i, err)\n",
        "        self.w -= w_grad\n",
        "        self.b -= b_grad \n",
        "\n",
        "  def activation(self, z):\n",
        "    a = 1 / (1+np.exp(-z))\n",
        "    return z\n",
        "\n",
        "  def predict(self, x):\n",
        "    z = [self.fwpass(x_i) for x_i in x]\n",
        "    print(z)\n",
        "    a = self.activation(np.array(z))\n",
        "    return a > 0.5"
      ],
      "execution_count": 23,
      "outputs": []
    },
    {
      "cell_type": "code",
      "metadata": {
        "id": "h_7DCpfRkrvc"
      },
      "source": [
        "#X_train, x_test 데이터프레임에서 리스트로 변환 \n",
        "x_train = np.array(X_train,dtype=float)\n",
        "x_test = np.array(X_test,dtype=float)\n",
        "y_test = Y_test.to_list()\n",
        "y_train = Y_train.to_list()"
      ],
      "execution_count": 24,
      "outputs": []
    },
    {
      "cell_type": "code",
      "metadata": {
        "colab": {
          "base_uri": "https://localhost:8080/"
        },
        "id": "ATiIY5rFkVQM",
        "outputId": "92d09406-5414-4445-ca44-66ed132910eb"
      },
      "source": [
        "neuron = LogisticNeuron() \n",
        "neuron.fit(x_train, y_train)\n",
        "np.mean(neuron.predict(x_test) == y_test)"
      ],
      "execution_count": 25,
      "outputs": [
        {
          "output_type": "stream",
          "name": "stderr",
          "text": [
            "/usr/local/lib/python3.7/dist-packages/ipykernel_launcher.py:29: RuntimeWarning: overflow encountered in exp\n",
            "/usr/local/lib/python3.7/dist-packages/ipykernel_launcher.py:7: RuntimeWarning: overflow encountered in multiply\n",
            "  import sys\n",
            "/usr/local/lib/python3.7/dist-packages/ipykernel_launcher.py:11: RuntimeWarning: invalid value encountered in multiply\n",
            "  # This is added back by InteractiveShellApp.init_path()\n",
            "/usr/local/lib/python3.7/dist-packages/ipykernel_launcher.py:7: RuntimeWarning: invalid value encountered in multiply\n",
            "  import sys\n"
          ]
        },
        {
          "output_type": "stream",
          "name": "stdout",
          "text": [
            "[nan, nan, nan, nan, nan, nan, nan, nan, nan, nan, nan, nan, nan, nan, nan, nan, nan, nan, nan, nan, nan, nan, nan, nan, nan, nan, nan, nan, nan, nan, nan, nan, nan, nan, nan, nan, nan, nan, nan, nan, nan, nan, nan, nan, nan, nan, nan, nan, nan, nan, nan, nan, nan, nan, nan, nan, nan, nan, nan, nan, nan, nan, nan, nan, nan, nan, nan, nan, nan, nan, nan, nan, nan, nan, nan, nan, nan, nan, nan, nan, nan, nan, nan, nan, nan, nan, nan, nan, nan, nan, nan, nan, nan, nan, nan, nan, nan, nan, nan, nan, nan, nan, nan, nan, nan, nan, nan, nan, nan, nan, nan, nan, nan, nan, nan, nan, nan, nan, nan, nan, nan, nan, nan, nan, nan, nan, nan, nan, nan, nan, nan, nan, nan, nan, nan, nan, nan, nan, nan, nan, nan, nan, nan, nan, nan, nan, nan, nan, nan, nan, nan, nan, nan, nan, nan, nan, nan, nan, nan, nan, nan, nan, nan, nan, nan, nan, nan, nan, nan, nan, nan, nan, nan, nan, nan, nan, nan, nan, nan, nan, nan, nan, nan, nan, nan, nan, nan, nan, nan, nan, nan, nan, nan, nan, nan, nan, nan, nan, nan, nan, nan, nan, nan, nan, nan, nan, nan, nan, nan, nan, nan, nan, nan, nan, nan, nan, nan, nan, nan, nan, nan, nan, nan, nan, nan, nan, nan, nan, nan, nan, nan, nan, nan, nan, nan, nan, nan, nan, nan, nan, nan, nan, nan, nan, nan, nan, nan, nan, nan, nan, nan, nan, nan, nan, nan, nan, nan, nan, nan, nan, nan, nan, nan, nan, nan, nan, nan, nan, nan, nan, nan, nan, nan, nan, nan, nan, nan, nan, nan, nan, nan, nan, nan, nan, nan, nan, nan, nan, nan, nan, nan, nan, nan, nan, nan, nan, nan, nan, nan, nan, nan, nan, nan, nan, nan, nan, nan, nan, nan, nan, nan, nan, nan, nan, nan, nan, nan, nan, nan, nan, nan, nan, nan, nan, nan, nan, nan, nan, nan, nan, nan, nan, nan, nan, nan, nan, nan, nan, nan, nan, nan, nan, nan, nan, nan, nan, nan, nan, nan, nan, nan, nan, nan, nan, nan, nan, nan, nan, nan, nan, nan, nan, nan, nan, nan, nan, nan, nan, nan, nan, nan, nan, nan, nan, nan, nan, nan, nan, nan, nan, nan, nan, nan, nan, nan, nan, nan, nan, nan, nan, nan, nan, nan, nan, nan, nan, nan, nan, nan, nan, nan, nan, nan, nan, nan, nan, nan, nan, nan, nan, nan, nan, nan, nan, nan, nan, nan, nan, nan, nan, nan, nan, nan, nan, nan, nan, nan, nan, nan, nan, nan, nan, nan, nan, nan, nan, nan, nan, nan, nan, nan, nan, nan, nan, nan, nan, nan, nan, nan, nan, nan, nan, nan, nan, nan, nan, nan, nan, nan, nan, nan, nan, nan, nan, nan, nan, nan, nan, nan, nan, nan, nan, nan, nan, nan, nan, nan, nan, nan, nan, nan, nan, nan, nan, nan, nan, nan, nan, nan, nan, nan, nan, nan, nan, nan, nan, nan, nan, nan, nan, nan, nan, nan, nan, nan, nan, nan, nan, nan, nan, nan, nan, nan, nan, nan, nan, nan, nan, nan, nan, nan, nan, nan, nan, nan, nan, nan, nan, nan, nan, nan, nan, nan, nan, nan, nan, nan, nan, nan, nan, nan, nan, nan, nan, nan, nan, nan, nan, nan, nan, nan, nan, nan, nan, nan, nan, nan, nan, nan, nan, nan, nan, nan, nan, nan, nan, nan, nan, nan, nan, nan, nan, nan, nan, nan, nan, nan, nan, nan, nan, nan, nan, nan, nan, nan, nan, nan, nan, nan, nan, nan, nan, nan, nan, nan, nan, nan, nan, nan, nan, nan, nan, nan, nan, nan, nan, nan, nan, nan, nan, nan, nan, nan, nan, nan, nan, nan, nan, nan, nan, nan, nan, nan, nan, nan, nan, nan, nan, nan, nan, nan, nan, nan, nan, nan, nan, nan, nan, nan, nan, nan, nan, nan, nan, nan, nan, nan, nan, nan, nan, nan, nan, nan, nan, nan, nan, nan, nan, nan, nan, nan, nan, nan, nan, nan, nan, nan, nan, nan, nan, nan, nan, nan, nan, nan, nan, nan, nan, nan, nan, nan, nan, nan, nan, nan, nan, nan, nan, nan, nan, nan, nan, nan, nan, nan, nan, nan, nan, nan, nan, nan, nan, nan, nan, nan, nan, nan, nan, nan, nan, nan, nan, nan, nan, nan, nan, nan, nan, nan, nan, nan, nan, nan, nan, nan, nan, nan, nan, nan, nan, nan, nan, nan, nan, nan, nan, nan, nan, nan, nan, nan, nan, nan, nan, nan, nan, nan, nan, nan, nan, nan, nan, nan, nan, nan, nan, nan, nan, nan, nan, nan, nan, nan, nan, nan, nan, nan, nan, nan, nan, nan, nan, nan, nan, nan, nan, nan, nan, nan, nan, nan, nan, nan, nan, nan, nan, nan, nan, nan, nan, nan, nan, nan, nan, nan, nan, nan, nan, nan, nan, nan, nan, nan, nan, nan, nan, nan, nan, nan, nan, nan, nan, nan, nan, nan, nan, nan, nan, nan, nan, nan, nan, nan, nan, nan, nan, nan, nan, nan, nan, nan, nan, nan, nan, nan, nan, nan, nan, nan, nan, nan, nan, nan, nan, nan, nan, nan, nan, nan, nan, nan, nan, nan, nan, nan, nan, nan, nan, nan, nan, nan, nan, nan, nan, nan, nan, nan, nan, nan, nan, nan, nan, nan, nan, nan, nan, nan, nan, nan, nan, nan, nan, nan, nan, nan, nan, nan, nan, nan, nan, nan, nan, nan, nan, nan, nan, nan, nan, nan, nan, nan, nan, nan, nan, nan, nan, nan, nan, nan, nan, nan, nan, nan, nan, nan, nan, nan, nan, nan, nan, nan, nan, nan, nan, nan, nan, nan, nan, nan, nan, nan, nan, nan, nan, nan, nan, nan, nan, nan, nan, nan, nan, nan, nan, nan, nan, nan, nan, nan, nan, nan, nan, nan, nan, nan, nan, nan, nan, nan, nan, nan, nan, nan, nan, nan, nan, nan, nan, nan, nan, nan, nan, nan, nan, nan, nan, nan, nan, nan, nan, nan, nan]\n"
          ]
        },
        {
          "output_type": "execute_result",
          "data": {
            "text/plain": [
              "0.9460285132382892"
            ]
          },
          "metadata": {},
          "execution_count": 25
        }
      ]
    },
    {
      "cell_type": "markdown",
      "metadata": {
        "id": "KS0iVEMxvZCs"
      },
      "source": [
        "#수업시간에 직접 만든 Single Layer NN"
      ]
    },
    {
      "cell_type": "code",
      "metadata": {
        "id": "UOAwXHg9rRms"
      },
      "source": [
        "class SingleLayerNN:\n",
        "\n",
        "  def __init__ (self):\n",
        "    self.w = None\n",
        "    self.b = None\n",
        "    self.losses = []\n",
        "\n",
        "  def forpass(self, x):\n",
        "    z = np.sum(x*self.w) + self.b\n",
        "    return z\n",
        "\n",
        "  def backprop(self, x, err):\n",
        "    w_grad = x*err\n",
        "    b_grad = 1*err    \n",
        "    return w_grad, b_grad\n",
        "  \n",
        "  def activation(self, z):\n",
        "    z = np.clip(z, -100, None)\n",
        "    a = 1 / (1+np.exp(-z))\n",
        "    return a\n",
        "\n",
        "  def fit(self, x, y, epochs=100):\n",
        "    self.w = np.ones(x.shape[1])  \n",
        "    self.b = 0\n",
        "    for i in range(epochs):\n",
        "      loss = 0\n",
        "      indexes = np.random.permutation(np.arange(len(x)))\n",
        "      for i in indexes:\n",
        "        z = self.forpass(x[i])\n",
        "        a = self.activation(z)\n",
        "        err = -(y[i] - a)\n",
        "        w_grad, b_grad = self.backprop(x[i], err)\n",
        "        self.w -= w_grad\n",
        "        self.b -= b_grad\n",
        "        # 안전한 로그 계산을 위해 cliping 한 후 loss를 누적함\n",
        "        a = np.clip(a, 1e-10, 1-1e-10)\n",
        "        loss += -(y[i]*np.log(a)+(1-y[i])*np.log(1-a))\n",
        "      self.losses.append(loss/len(y))\n",
        "\n",
        "  def predict(self, x):\n",
        "    z = [self.forpass(x_i) for x_i in x]\n",
        "    return np.array(z) > 0\n",
        "    \n",
        "  def score(self, x, y):\n",
        "    return np.mean(self.predict(x) == y)\n"
      ],
      "execution_count": 26,
      "outputs": []
    },
    {
      "cell_type": "code",
      "metadata": {
        "id": "Syo5GDDPZ2q-",
        "colab": {
          "base_uri": "https://localhost:8080/"
        },
        "outputId": "11e2c0ac-a5ec-43a8-fe5b-3b346402a24b"
      },
      "source": [
        "layer = SingleLayerNN()\n",
        "layer.fit(x_train, y_train)\n",
        "layer.score(x_test, y_test)"
      ],
      "execution_count": 27,
      "outputs": [
        {
          "output_type": "execute_result",
          "data": {
            "text/plain": [
              "0.945010183299389"
            ]
          },
          "metadata": {},
          "execution_count": 27
        }
      ]
    },
    {
      "cell_type": "code",
      "metadata": {
        "colab": {
          "base_uri": "https://localhost:8080/",
          "height": 279
        },
        "id": "17ODXidznm29",
        "outputId": "e547ea27-2cdc-4acc-b0de-cc51fd7ef41c"
      },
      "source": [
        "plt.plot(layer.losses)\n",
        "plt.xlabel('epoch')\n",
        "plt.ylabel('loss')\n",
        "plt.show()"
      ],
      "execution_count": 28,
      "outputs": [
        {
          "output_type": "display_data",
          "data": {
            "image/png": "[encoded data removed]",
            "text/plain": [
              "<Figure size 432x288 with 1 Axes>"
            ]
          },
          "metadata": {
            "needs_background": "light"
          }
        }
      ]
    },
    {
      "cell_type": "markdown",
      "metadata": {
        "id": "IwjOCT4cpWFD"
      },
      "source": [
        "SingleLayerNN의 정확도가 Logistic Regression보다 낮게 나와서 epoch를 높여서 다시 진행해봄. "
      ]
    },
    {
      "cell_type": "code",
      "metadata": {
        "colab": {
          "base_uri": "https://localhost:8080/"
        },
        "id": "50-kv7Djo_fH",
        "outputId": "1ac4f336-2482-4c32-fbc2-a92fb28aa2d9"
      },
      "source": [
        "class SingleLayer:\n",
        "\n",
        "  def __init__ (self):\n",
        "    self.w = None\n",
        "    self.b = None\n",
        "    self.losses = []\n",
        "\n",
        "  def forpass(self, x):\n",
        "    z = np.sum(x*self.w) + self.b\n",
        "    return z\n",
        "\n",
        "  def backprop(self, x, err):\n",
        "    w_grad = x*err\n",
        "    b_grad = 1*err    \n",
        "    return w_grad, b_grad\n",
        "  \n",
        "  def activation(self, z):\n",
        "    z = np.clip(z, -100, None)\n",
        "    a = 1 / (1+np.exp(-z))\n",
        "    return a\n",
        "\n",
        "  def fit(self, x, y, epochs=500):#신경망이기 때문에 epoch수가 정확도에 영향을 미칠 것이라 생각하여 높여서 진행\n",
        "    self.w = np.ones(x.shape[1])  \n",
        "    self.b = 0\n",
        "    for i in range(epochs):\n",
        "      loss = 0\n",
        "      indexes = np.random.permutation(np.arange(len(x)))\n",
        "      for i in indexes:\n",
        "        z = self.forpass(x[i])\n",
        "        a = self.activation(z)\n",
        "        err = -(y[i] - a)\n",
        "        w_grad, b_grad = self.backprop(x[i], err)\n",
        "        self.w -= w_grad\n",
        "        self.b -= b_grad\n",
        "        # 안전한 로그 계산을 위해 cliping 한 후 loss를 누적함\n",
        "        a = np.clip(a, 1e-10, 1-1e-10)\n",
        "        loss += -(y[i]*np.log(a)+(1-y[i])*np.log(1-a))\n",
        "      self.losses.append(loss/len(y))\n",
        "\n",
        "  def predict(self, x):\n",
        "    z = [self.forpass(x_i) for x_i in x]\n",
        "    return np.array(z) > 0\n",
        "    \n",
        "  def score(self, x, y):\n",
        "    return np.mean(self.predict(x) == y)\n",
        "\n",
        "\n",
        "\n",
        "layer = SingleLayer()\n",
        "layer.fit(x_train, y_train)\n",
        "layer.score(x_test, y_test)"
      ],
      "execution_count": 36,
      "outputs": [
        {
          "output_type": "execute_result",
          "data": {
            "text/plain": [
              "0.9429735234215886"
            ]
          },
          "metadata": {},
          "execution_count": 36
        }
      ]
    },
    {
      "cell_type": "code",
      "metadata": {
        "colab": {
          "base_uri": "https://localhost:8080/",
          "height": 279
        },
        "id": "kC4b8KyDpVRp",
        "outputId": "804b18ea-f861-4f3e-9763-e649f9aefd50"
      },
      "source": [
        "plt.plot(layer.losses)\n",
        "plt.xlabel('epoch')\n",
        "plt.ylabel('loss')\n",
        "plt.show()"
      ],
      "execution_count": 37,
      "outputs": [
        {
          "output_type": "display_data",
          "data": {
            "image/png": "[encoded data removed]",
            "text/plain": [
              "<Figure size 432x288 with 1 Axes>"
            ]
          },
          "metadata": {
            "needs_background": "light"
          }
        }
      ]
    },
    {
      "cell_type": "markdown",
      "metadata": {
        "id": "bU6dVrC_1lQa"
      },
      "source": [
        "#다른 2-class-classifier로 정확도 측정해보기."
      ]
    },
    {
      "cell_type": "code",
      "metadata": {
        "id": "2cX5QYqtO1-R",
        "colab": {
          "base_uri": "https://localhost:8080/"
        },
        "outputId": "a0923cf5-6ecf-4613-8cce-6bb73388bfb9"
      },
      "source": [
        "from sklearn.neural_network import  MLPClassifier\n",
        "from sklearn.metrics import roc_auc_score\n",
        "\n",
        "clf = MLPClassifier(solver='lbfgs', alpha=1e-5,hidden_layer_sizes=(5,2),random_state=1)\n",
        "\n",
        "clf.fit(X_train,Y_train)\n",
        "\n",
        "pos_prob = clf.predict_proba(X_test)\n",
        "#print('The ROC AUC : {0:.3f}'.format(roc_auc_score(y_test, pos_prob[:,0])))\n",
        "\n",
        "print(clf.score(X_test,Y_test))\n",
        "print(clf.loss_)"
      ],
      "execution_count": 29,
      "outputs": [
        {
          "output_type": "stream",
          "name": "stdout",
          "text": [
            "0.9460285132382892\n",
            "0.37872154400581376\n"
          ]
        }
      ]
    },
    {
      "cell_type": "markdown",
      "metadata": {
        "id": "oMW6vyUD661g"
      },
      "source": [
        "결과 : Neural Network MLPClassifier를 이용하여 예측한 결과 95%의 정확도"
      ]
    },
    {
      "cell_type": "code",
      "metadata": {
        "id": "UA66KUa22R_T"
      },
      "source": [
        "def model_selection(X_train, y_train, kfold=3):\n",
        "    from sklearn.linear_model import LogisticRegression\n",
        "    from sklearn.ensemble import RandomForestClassifier\n",
        "    from sklearn.tree import DecisionTreeClassifier\n",
        "    from sklearn.svm import SVC\n",
        "    from xgboost import XGBClassifier\n",
        "    from sklearn.model_selection import cross_val_score\n",
        "    from tqdm.notebook import tqdm\n",
        "    import pandas as pd\n",
        "\n",
        "    models = [\n",
        "        LogisticRegression(),\n",
        "        XGBClassifier(random_state=100),\n",
        "        SVC(), DecisionTreeClassifier(max_depth=6)\n",
        "    ]\n",
        "    \n",
        "    progress_bar = tqdm(total = len(models) * kfold)\n",
        "    \n",
        "    entries = []\n",
        "    for model in models:\n",
        "        model_name = model.__class__.__name__\n",
        "        accuracies = cross_val_score(model, X_train, y_train, \n",
        "                        scoring='accuracy', cv=kfold, n_jobs=-1)\n",
        "    \n",
        "        for fold_idx, accuracy in enumerate(accuracies):\n",
        "            progress_bar.update()\n",
        "            entries.append((model_name, fold_idx, accuracy))\n",
        "    \n",
        "    progress_bar.close()\n",
        "    \n",
        "    cv_result = pd.DataFrame(entries, columns=['model_name', 'fold_idx', 'accuracy'], index=range(kfold * len(models)))\n",
        "    return cv_result"
      ],
      "execution_count": 30,
      "outputs": []
    },
    {
      "cell_type": "code",
      "metadata": {
        "colab": {
          "base_uri": "https://localhost:8080/",
          "height": 49,
          "referenced_widgets": [
            "22c7f63f6ea14f3c95b7e3d1e9380f31",
            "ca328294673d43b2afbdf54459872ad0",
            "3a17290782ee41318779747887b52968",
            "6944c5f9bcbb47478a440cc464d95b68",
            "a38d784fedc04bb294e8b6e58d486c3b",
            "20a52ac460f4418b9edb7c5d483bc4e3",
            "17c27afafdca4de19f1aabf4fe3c6dbd",
            "f2cc008bd825440998aad6f5fcc62763",
            "5b0ffd2d834043dfa352594d34334244",
            "6bc27dc491694595b00f65fa204ee73f",
            "d2041b77d1e44c088fb8596a0c20bdfa"
          ]
        },
        "id": "hIEPFZEr2SoX",
        "outputId": "cb8a4214-dd94-4358-a8f2-6a4c3758bbbd"
      },
      "source": [
        "model_selection_result = model_selection(x_train, y_train)"
      ],
      "execution_count": 31,
      "outputs": [
        {
          "output_type": "display_data",
          "data": {
            "application/vnd.jupyter.widget-view+json": {
              "model_id": "22c7f63f6ea14f3c95b7e3d1e9380f31",
              "version_minor": 0,
              "version_major": 2
            },
            "text/plain": [
              "  0%|          | 0/12 [00:00<?, ?it/s]"
            ]
          },
          "metadata": {}
        }
      ]
    },
    {
      "cell_type": "code",
      "metadata": {
        "colab": {
          "base_uri": "https://localhost:8080/",
          "height": 421
        },
        "id": "SFEWpS1n2ZA2",
        "outputId": "6f29ddb2-20d7-43c0-aa23-e2bd27cf5890"
      },
      "source": [
        "model_selection_result"
      ],
      "execution_count": 32,
      "outputs": [
        {
          "output_type": "execute_result",
          "data": {
            "text/html": [
              "<div>\n",
              "<style scoped>\n",
              "    .dataframe tbody tr th:only-of-type {\n",
              "        vertical-align: middle;\n",
              "    }\n",
              "\n",
              "    .dataframe tbody tr th {\n",
              "        vertical-align: top;\n",
              "    }\n",
              "\n",
              "    .dataframe thead th {\n",
              "        text-align: right;\n",
              "    }\n",
              "</style>\n",
              "<table border=\"1\" class=\"dataframe\">\n",
              "  <thead>\n",
              "    <tr style=\"text-align: right;\">\n",
              "      <th></th>\n",
              "      <th>model_name</th>\n",
              "      <th>fold_idx</th>\n",
              "      <th>accuracy</th>\n",
              "    </tr>\n",
              "  </thead>\n",
              "  <tbody>\n",
              "    <tr>\n",
              "      <th>0</th>\n",
              "      <td>LogisticRegression</td>\n",
              "      <td>0</td>\n",
              "      <td>0.960275</td>\n",
              "    </tr>\n",
              "    <tr>\n",
              "      <th>1</th>\n",
              "      <td>LogisticRegression</td>\n",
              "      <td>1</td>\n",
              "      <td>0.958747</td>\n",
              "    </tr>\n",
              "    <tr>\n",
              "      <th>2</th>\n",
              "      <td>LogisticRegression</td>\n",
              "      <td>2</td>\n",
              "      <td>0.958747</td>\n",
              "    </tr>\n",
              "    <tr>\n",
              "      <th>3</th>\n",
              "      <td>XGBClassifier</td>\n",
              "      <td>0</td>\n",
              "      <td>0.959511</td>\n",
              "    </tr>\n",
              "    <tr>\n",
              "      <th>4</th>\n",
              "      <td>XGBClassifier</td>\n",
              "      <td>1</td>\n",
              "      <td>0.959511</td>\n",
              "    </tr>\n",
              "    <tr>\n",
              "      <th>5</th>\n",
              "      <td>XGBClassifier</td>\n",
              "      <td>2</td>\n",
              "      <td>0.957983</td>\n",
              "    </tr>\n",
              "    <tr>\n",
              "      <th>6</th>\n",
              "      <td>SVC</td>\n",
              "      <td>0</td>\n",
              "      <td>0.960275</td>\n",
              "    </tr>\n",
              "    <tr>\n",
              "      <th>7</th>\n",
              "      <td>SVC</td>\n",
              "      <td>1</td>\n",
              "      <td>0.960275</td>\n",
              "    </tr>\n",
              "    <tr>\n",
              "      <th>8</th>\n",
              "      <td>SVC</td>\n",
              "      <td>2</td>\n",
              "      <td>0.960275</td>\n",
              "    </tr>\n",
              "    <tr>\n",
              "      <th>9</th>\n",
              "      <td>DecisionTreeClassifier</td>\n",
              "      <td>0</td>\n",
              "      <td>0.945760</td>\n",
              "    </tr>\n",
              "    <tr>\n",
              "      <th>10</th>\n",
              "      <td>DecisionTreeClassifier</td>\n",
              "      <td>1</td>\n",
              "      <td>0.951108</td>\n",
              "    </tr>\n",
              "    <tr>\n",
              "      <th>11</th>\n",
              "      <td>DecisionTreeClassifier</td>\n",
              "      <td>2</td>\n",
              "      <td>0.952636</td>\n",
              "    </tr>\n",
              "  </tbody>\n",
              "</table>\n",
              "</div>"
            ],
            "text/plain": [
              "                model_name  fold_idx  accuracy\n",
              "0       LogisticRegression         0  0.960275\n",
              "1       LogisticRegression         1  0.958747\n",
              "2       LogisticRegression         2  0.958747\n",
              "3            XGBClassifier         0  0.959511\n",
              "4            XGBClassifier         1  0.959511\n",
              "5            XGBClassifier         2  0.957983\n",
              "6                      SVC         0  0.960275\n",
              "7                      SVC         1  0.960275\n",
              "8                      SVC         2  0.960275\n",
              "9   DecisionTreeClassifier         0  0.945760\n",
              "10  DecisionTreeClassifier         1  0.951108\n",
              "11  DecisionTreeClassifier         2  0.952636"
            ]
          },
          "metadata": {},
          "execution_count": 32
        }
      ]
    },
    {
      "cell_type": "markdown",
      "metadata": {
        "id": "lS0Y0OHE4neN"
      },
      "source": [
        "결과 : 정확도가 96%로 가장 높은 LogisticRegression과 SVM알고리즘\n",
        "\n",
        "\n",
        "Grid Search로 logistic Regression의 hyper parameter 구해보기"
      ]
    },
    {
      "cell_type": "code",
      "metadata": {
        "colab": {
          "base_uri": "https://localhost:8080/"
        },
        "id": "XK16Kc8w2gvi",
        "outputId": "a4fba3a2-22b1-45b1-d3b9-48437e4e154c"
      },
      "source": [
        " #Logistic Regression hyperparameter tuning \n",
        "\n",
        "\n",
        "from sklearn.model_selection import GridSearchCV\n",
        "from sklearn.linear_model import LogisticRegression\n",
        "lr_clf = LogisticRegression(max_iter=200)\n",
        "params = {'penalty': ['l2', 'l1'],\n",
        "       'C': [0.001, 0.01, 0.1, 1, 5, 10]}\n",
        "\n",
        "grid_lr_clf = GridSearchCV(lr_clf, \n",
        "                           param_grid=params, verbose=1, scoring='accuracy', n_jobs=-1, cv = 3)\n",
        "\n",
        "# eval_metric: 평가 방식. auc = accuracy\n",
        "# eval_set: 평가 데이터셋\n",
        "grid_lr_clf.fit(x_train, y_train)"
      ],
      "execution_count": 33,
      "outputs": [
        {
          "output_type": "stream",
          "name": "stdout",
          "text": [
            "Fitting 3 folds for each of 12 candidates, totalling 36 fits\n"
          ]
        },
        {
          "output_type": "stream",
          "name": "stderr",
          "text": [
            "[Parallel(n_jobs=-1)]: Using backend LokyBackend with 2 concurrent workers.\n",
            "[Parallel(n_jobs=-1)]: Done  36 out of  36 | elapsed:    0.9s finished\n"
          ]
        },
        {
          "output_type": "execute_result",
          "data": {
            "text/plain": [
              "GridSearchCV(cv=3, error_score=nan,\n",
              "             estimator=LogisticRegression(C=1.0, class_weight=None, dual=False,\n",
              "                                          fit_intercept=True,\n",
              "                                          intercept_scaling=1, l1_ratio=None,\n",
              "                                          max_iter=200, multi_class='auto',\n",
              "                                          n_jobs=None, penalty='l2',\n",
              "                                          random_state=None, solver='lbfgs',\n",
              "                                          tol=0.0001, verbose=0,\n",
              "                                          warm_start=False),\n",
              "             iid='deprecated', n_jobs=-1,\n",
              "             param_grid={'C': [0.001, 0.01, 0.1, 1, 5, 10],\n",
              "                         'penalty': ['l2', 'l1']},\n",
              "             pre_dispatch='2*n_jobs', refit=True, return_train_score=False,\n",
              "             scoring='accuracy', verbose=1)"
            ]
          },
          "metadata": {},
          "execution_count": 33
        }
      ]
    },
    {
      "cell_type": "code",
      "metadata": {
        "colab": {
          "base_uri": "https://localhost:8080/"
        },
        "id": "T9A_7eco2pXU",
        "outputId": "058c2e75-45cc-4a3c-d9d8-ab00a7dedb56"
      },
      "source": [
        "grid_lr_clf.best_estimator_"
      ],
      "execution_count": 34,
      "outputs": [
        {
          "output_type": "execute_result",
          "data": {
            "text/plain": [
              "LogisticRegression(C=0.001, class_weight=None, dual=False, fit_intercept=True,\n",
              "                   intercept_scaling=1, l1_ratio=None, max_iter=200,\n",
              "                   multi_class='auto', n_jobs=None, penalty='l2',\n",
              "                   random_state=None, solver='lbfgs', tol=0.0001, verbose=0,\n",
              "                   warm_start=False)"
            ]
          },
          "metadata": {},
          "execution_count": 34
        }
      ]
    }
  ]
}